{
 "cells": [
  {
   "cell_type": "code",
   "execution_count": 1,
   "metadata": {},
   "outputs": [],
   "source": [
    "import numpy as np\n",
    "import matplotlib.pyplot as plt\n",
    "data=np.genfromtxt('hw3_dataset/ldaData.txt',usecols=(0,1))"
   ]
  },
  {
   "cell_type": "code",
   "execution_count": 2,
   "metadata": {},
   "outputs": [],
   "source": [
    "original_1=data[:50,:]\n",
    "original_2=data[50:93,:]\n",
    "original_3=data[93:,:]"
   ]
  },
  {
   "cell_type": "code",
   "execution_count": 94,
   "metadata": {},
   "outputs": [
    {
     "data": {
      "image/png": "[encoded data removed]",
      "text/plain": [
       "<Figure size 432x288 with 1 Axes>"
      ]
     },
     "metadata": {},
     "output_type": "display_data"
    }
   ],
   "source": [
    "fig, ax = plt.subplots()\n",
    "ax.plot(original_1[:,0],original_1[:,1],'ro',label='class 1')\n",
    "ax.plot(original_2[:,0],original_2[:,1],'go',label='class 2')\n",
    "ax.plot(original_3[:,0],original_3[:,1],'bo',label='class 3')\n",
    "legend = ax.legend(loc='upper right')\n",
    "plt.title('original plot')\n",
    "plt.xlabel('feature 1')\n",
    "plt.ylabel('feature 2')\n",
    "plt.savefig('original.png')\n",
    "plt.show()"
   ]
  },
  {
   "cell_type": "code",
   "execution_count": 91,
   "metadata": {},
   "outputs": [],
   "source": [
    "def gaussian1d(x,mu,sigma):\n",
    "    return 1/np.sqrt(2*np.pi*sigma)*np.exp(-(x-mu)**2/2/sigma)\n",
    "def posterior(x,mu,sigma,w):\n",
    "    return gaussian1d(np.dot(w,x),mu,sigma)\n",
    "def construct(data,label,class_num):\n",
    "    num=sum([1 for i in label if i==class_num])\n",
    "    out=np.zeros([num,2])\n",
    "    loc=0\n",
    "    for i in range(len(label)):\n",
    "        if label[i]==class_num:\n",
    "            out[loc]=data[i]\n",
    "            loc+=1\n",
    "    return out\n",
    "mean1,mean2,mean3=np.mean(original_1,axis=0),np.mean(original_2,axis=0),np.mean(original_3,axis=0)\n",
    "mean_all=np.mean(data,axis=0)\n",
    "cov1,cov2,cov3=np.cov(original_1,rowvar=0),np.cov(original_2,rowvar=0),np.cov(original_3,rowvar=0)\n",
    "S_W=49*cov1+42*cov2+43*cov3\n",
    "shared_cov=(49*cov1+42*cov2+43*cov3)/(49+42+43)\n",
    "S_B=50*np.outer(mean1-mean_all,mean1-mean_all)+43*np.outer(mean2-mean_all,mean2-mean_all)+44*np.outer(\n",
    "    mean3-mean_all,mean3-mean_all)\n",
    "eigvals,eigvecs=np.linalg.eig(np.matmul(np.linalg.inv(S_W),S_B))\n",
    "\n",
    "#w vector\n",
    "w=eigvecs[:,np.argmax(eigvals)]\n",
    "\n",
    "#classfication\n",
    "mean1_pro,mean2_pro,mean3_pro=np.dot(w,mean1),np.dot(w,mean2),np.dot(w,mean3)\n",
    "shared_cov_pro=np.dot(w,np.matmul(shared_cov,w))\n",
    "predicted_label=[]\n",
    "for x in data:\n",
    "    predicted_label.append(np.argmax([posterior(x,mean1_pro,shared_cov_pro,w),posterior(\n",
    "        x,mean2_pro,shared_cov_pro,w),posterior(x,mean3_pro,shared_cov_pro,w)])+1)"
   ]
  },
  {
   "cell_type": "code",
   "execution_count": 92,
   "metadata": {},
   "outputs": [
    {
     "name": "stdout",
     "output_type": "stream",
     "text": [
      "Accuracy:  0.8175182481751825\n"
     ]
    },
    {
     "data": {
      "image/png": "[encoded data removed]",
      "text/plain": [
       "<Figure size 432x288 with 1 Axes>"
      ]
     },
     "metadata": {},
     "output_type": "display_data"
    }
   ],
   "source": [
    "#evaluate\n",
    "mis_1=sum([1 for i in predicted_label[:50] if i!=1])\n",
    "mis_2=sum([1 for i in predicted_label[50:93] if i!=2])\n",
    "mis_3=sum([1 for i in predicted_label[93:] if i!=3])\n",
    "acc=1-(mis_1+mis_2+mis_3)/137\n",
    "print(\"Accuracy: \",acc)\n",
    "#plot\n",
    "fig, ax = plt.subplots()\n",
    "ax.plot(construct(data,predicted_label,1)[:,0],construct(data,predicted_label,1)[:,1],'ro',label='class 1')\n",
    "ax.plot(construct(data,predicted_label,2)[:,0],construct(data,predicted_label,2)[:,1],'go',label='class 2')\n",
    "ax.plot(construct(data,predicted_label,3)[:,0],construct(data,predicted_label,3)[:,1],'bo',label='class 3')\n",
    "legend = ax.legend(loc='upper right')\n",
    "plt.title('classified plot')\n",
    "plt.xlabel('feature 1')\n",
    "plt.ylabel('feature 2')\n",
    "plt.savefig('classified.png')\n",
    "plt.show()"
   ]
  },
  {
   "cell_type": "code",
   "execution_count": 85,
   "metadata": {},
   "outputs": [],
   "source": []
  },
  {
   "cell_type": "code",
   "execution_count": 88,
   "metadata": {},
   "outputs": [
    {
     "data": {
      "text/plain": [
       "array([[5.1, 3.5],\n",
       "       [4.9, 3. ],\n",
       "       [4.7, 3.2],\n",
       "       [4.6, 3.1],\n",
       "       [5. , 3.6],\n",
       "       [5.4, 3.9],\n",
       "       [4.6, 3.4],\n",
       "       [5. , 3.4],\n",
       "       [4.4, 2.9],\n",
       "       [4.9, 3.1],\n",
       "       [5.4, 3.7],\n",
       "       [4.8, 3.4],\n",
       "       [4.8, 3. ],\n",
       "       [4.3, 3. ],\n",
       "       [5.8, 4. ],\n",
       "       [5.7, 4.4],\n",
       "       [5.4, 3.9],\n",
       "       [5.1, 3.5],\n",
       "       [5.7, 3.8],\n",
       "       [5.1, 3.8],\n",
       "       [5.4, 3.4],\n",
       "       [5.1, 3.7],\n",
       "       [4.6, 3.6],\n",
       "       [5.1, 3.3],\n",
       "       [4.8, 3.4],\n",
       "       [5. , 3. ],\n",
       "       [5. , 3.4],\n",
       "       [5.2, 3.5],\n",
       "       [5.2, 3.4],\n",
       "       [4.7, 3.2],\n",
       "       [4.8, 3.1],\n",
       "       [5.4, 3.4],\n",
       "       [5.2, 4.1],\n",
       "       [5.5, 4.2],\n",
       "       [4.9, 3.1],\n",
       "       [5. , 3.2],\n",
       "       [5.5, 3.5],\n",
       "       [4.9, 3.6],\n",
       "       [4.4, 3. ],\n",
       "       [5.1, 3.4],\n",
       "       [5. , 3.5],\n",
       "       [4.4, 3.2],\n",
       "       [5. , 3.5],\n",
       "       [5.1, 3.8],\n",
       "       [4.8, 3. ],\n",
       "       [5.1, 3.8],\n",
       "       [4.6, 3.2],\n",
       "       [5.3, 3.7],\n",
       "       [5. , 3.3]])"
      ]
     },
     "execution_count": 88,
     "metadata": {},
     "output_type": "execute_result"
    }
   ],
   "source": []
  },
  {
   "cell_type": "code",
   "execution_count": 82,
   "metadata": {},
   "outputs": [
    {
     "data": {
      "text/plain": [
       "array([[0., 0.],\n",
       "       [0., 0.],\n",
       "       [0., 0.]])"
      ]
     },
     "execution_count": 82,
     "metadata": {},
     "output_type": "execute_result"
    }
   ],
   "source": [
    "out=np.zeros([3,2])\n",
    "out"
   ]
  },
  {
   "cell_type": "code",
   "execution_count": null,
   "metadata": {},
   "outputs": [],
   "source": []
  }
 ],
 "metadata": {
  "kernelspec": {
   "display_name": "Python 3",
   "language": "python",
   "name": "python3"
  },
  "language_info": {
   "codemirror_mode": {
    "name": "ipython",
    "version": 3
   },
   "file_extension": ".py",
   "mimetype": "text/x-python",
   "name": "python",
   "nbconvert_exporter": "python",
   "pygments_lexer": "ipython3",
   "version": "3.6.5"
  }
 },
 "nbformat": 4,
 "nbformat_minor": 2
}
