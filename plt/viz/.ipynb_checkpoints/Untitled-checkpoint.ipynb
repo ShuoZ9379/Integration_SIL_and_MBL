{
 "cells": [
  {
   "cell_type": "code",
   "execution_count": 2,
   "metadata": {},
   "outputs": [],
   "source": [
    "import os, argparse, subprocess\n",
    "import matplotlib.pyplot as plt\n",
    "import numpy as np\n",
    "from baselines.common import plot_util as pu\n",
    "from scipy.stats import ttest_ind\n",
    "def filt(results,name):\n",
    "    ls=[r for r in results if name in r.dirname]\n",
    "    return ls\n",
    "def reconstruct(max_idx,legend_name_list,mn_ls,sd_ls,last_ls_ls):\n",
    "    new_legends,new_mn_ls,new_sd_ls,new_last_ls_ls=[],[],[],[]\n",
    "    for i in range(len(mn_ls)):\n",
    "        if i != max_idx:\n",
    "            new_mn_ls.append(mn_ls[i])\n",
    "            new_sd_ls.append(sd_ls[i])\n",
    "            new_last_ls_ls.append(last_ls_ls[i])\n",
    "            new_legends.append(legend_name_list[i])\n",
    "    return new_legends,new_mn_ls,new_sd_ls,new_last_ls_ls\n",
    "def t_test(a,b):\n",
    "    values1=np.array(a)\n",
    "    values2=np.array(b)\n",
    "    value, p = ttest_ind(values1, values2, equal_var=False)\n",
    "    if p>0.05: bl=True\n",
    "    else: bl=False\n",
    "    return bl\n",
    "\n",
    "location='logs'\n",
    "thesis_dir=\"Online_V0\"\n",
    "env_name_list=[\"Ant-v2\", \"HalfCheetah-v2\", \"Reacher-v2\", \"Swimmer-v2\"]\n",
    "#env_name_list=[\"HalfCheetah-v2\"]\n",
    "legend_name_list=[\"copos1\", \"copos1+sil_n2_l0.001\", \"copos1+sil_n10_l0.1\", \n",
    "                  \"copos2\", \"copos2+sil_n2_l0.001\", \"copos2+sil_n10_l0.1\",\n",
    "                  \"ppo\", \"ppo+sil_n2_l0.001\", \"ppo+sil_n10_l0.1\",\n",
    "                  \"trpo\", \"trpo+sil_n2_l0.001\", \"trpo+sil_n10_l0.1\"]\n",
    "#legend_name_list=[\"copos1\", \"copos1+sil_n2_l0.001\", \"copos1+sil_n10_l0.1\"]\n",
    "for env_name in env_name_list:\n",
    "    dirname = '~/Desktop/logs/'+location+'/EXP_ON_V0/'+env_name\n",
    "    results = pu.load_results(dirname)\n",
    "    mn_ls, sd_ls,last_ls_ls=[],[],[]\n",
    "    final_txt_name=\"/Users/zsbjltwjj/Desktop/thesis/img/\"+thesis_dir+\"/\"+env_name+\"-final-output.txt\"\n",
    "    for legend in legend_name_list:\n",
    "        result=filt(results,legend+\"-\")\n",
    "        mn, sd, last_ls = pu.table_results(result,xy_fn=pu.progress_default_xy_fn,average_group=True,split_fn=lambda _: '', \n",
    "                                           name=result[0].dirname,tp='online',freq=10)\n",
    "        txt_name=\"/Users/zsbjltwjj/Desktop/logs/\"+location+\"/EXP_ON_V0/\"+env_name+\"/\"+legend+\"-output.txt\"\n",
    "        with open(txt_name, \"w\") as text_file:\n",
    "            text_file.write(str(mn)+'\\n')\n",
    "            text_file.write(str(sd)+'\\n')\n",
    "            for i in last_ls:\n",
    "                text_file.write(str(i)+' ')\n",
    "#        s=open(txt_name, \"r\")\n",
    "#        tmp=s.readlines()\n",
    "#        s.close()\n",
    "        mn_ls.append(mn)\n",
    "        sd_ls.append(sd)\n",
    "        last_ls_ls.append(last_ls)\n",
    "    #print(mn_ls)\n",
    "    max_idx=np.argmax(mn_ls)\n",
    "    with open(final_txt_name, \"w\") as txt_file:\n",
    "        bolds=[]\n",
    "        new_legends,new_mn_ls,new_sd_ls,new_last_ls_ls=reconstruct(max_idx,legend_name_list,mn_ls,sd_ls,last_ls_ls)\n",
    "        for i in range(len(new_legends)):\n",
    "            bold=t_test(last_ls_ls[max_idx],new_last_ls_ls[i])\n",
    "            bolds.append(bold)\n",
    "            txt_file.write(new_legends[i]+\": \"+str(new_mn_ls[i])+' '+str(new_sd_ls[i])+' '+str(bold)+'\\n')\n",
    "        if any(bolds): max_bold=True\n",
    "        else: max_bold=False\n",
    "        txt_file.write(\"max alg: \"+legend_name_list[max_idx]+\": \"+str(mn_ls[max_idx])+' '+str(sd_ls[max_idx])+' '+str(max_bold)+'\\n')"
   ]
  },
  {
   "cell_type": "code",
   "execution_count": null,
   "metadata": {},
   "outputs": [],
   "source": []
  },
  {
   "cell_type": "code",
   "execution_count": 30,
   "metadata": {},
   "outputs": [],
   "source": []
  },
  {
   "cell_type": "code",
   "execution_count": 4,
   "metadata": {},
   "outputs": [
    {
     "name": "stdout",
     "output_type": "stream",
     "text": [
      "OK\n",
      "[5637.694535208596, 6489.158118546056, 6077.0115118176, 2202.991225928735, 6292.799194725492, 4736.589219996692, 2250.6628926386315, 2160.960413535333, 4455.544783379904, 2103.3618176554646]\n"
     ]
    }
   ],
   "source": [
    "a=5\n",
    "b=7\n",
    "c=[3,4]\n",
    "d=np.array([1,2])\n",
    "0 or 512\n",
    "if 512:\n",
    "    print(\"OK\")\n",
    "print(last_ls)"
   ]
  },
  {
   "cell_type": "code",
   "execution_count": 16,
   "metadata": {},
   "outputs": [],
   "source": [
    "with open(\"/Users/zsbjltwjj/Desktop/carla_sample_efficient/plt/viz/copos1+sil_n2_l0.001-output.txt\", \"w\") as text_file:\n",
    "    text_file.write(str(mn)+'\\n')\n",
    "    text_file.write(str(sd)+'\\n')\n",
    "    for i in last_ls:\n",
    "        text_file.write(str(i)+' ')"
   ]
  },
  {
   "cell_type": "code",
   "execution_count": 17,
   "metadata": {},
   "outputs": [],
   "source": [
    "s=open(\"/Users/zsbjltwjj/Desktop/carla_sample_efficient/plt/viz/copos1+sil_n2_l0.001-output.txt\", \"r\")\n",
    "tmp=s.readlines()\n",
    "s.close()"
   ]
  },
  {
   "cell_type": "code",
   "execution_count": 7,
   "metadata": {},
   "outputs": [
    {
     "data": {
      "text/plain": [
       "[5679.017019997809,\n",
       " 6492.484149653955,\n",
       " 6118.61547883777,\n",
       " 2204.712526256867,\n",
       " 6299.1317277091175,\n",
       " 4770.5191771900045,\n",
       " 2253.000148826059,\n",
       " 2166.2394150914024,\n",
       " 4683.458833112551,\n",
       " 2093.925578305976]"
      ]
     },
     "execution_count": 7,
     "metadata": {},
     "output_type": "execute_result"
    }
   ],
   "source": [
    "#float(tmp[2].split()[9])\n",
    "last_ls"
   ]
  },
  {
   "cell_type": "code",
   "execution_count": 23,
   "metadata": {},
   "outputs": [
    {
     "data": {
      "text/plain": [
       "False"
      ]
     },
     "execution_count": 23,
     "metadata": {},
     "output_type": "execute_result"
    }
   ],
   "source": [
    "envs=['copos1-1','']\n",
    "a=mn_ls.copy()\n",
    "any([False, False])"
   ]
  },
  {
   "cell_type": "code",
   "execution_count": 4,
   "metadata": {},
   "outputs": [
    {
     "data": {
      "text/plain": [
       "(<Figure size 432x432 with 1 Axes>,\n",
       " array([[<matplotlib.axes._subplots.AxesSubplot object at 0x122288390>]],\n",
       "       dtype=object))"
      ]
     },
     "execution_count": 4,
     "metadata": {},
     "output_type": "execute_result"
    },
    {
     "data": {
      "image/png": "[encoded data removed]",
      "text/plain": [
       "<Figure size 432x432 with 1 Axes>"
      ]
     },
     "metadata": {
      "needs_background": "light"
     },
     "output_type": "display_data"
    }
   ],
   "source": [
    "test=filt(results,\"copos1-\")\n",
    "pu.table_results(test,xy_fn=pu.progress_default_xy_fn,average_group=True,split_fn=lambda _: '',shaded_err=True,shaded_std=False)"
   ]
  },
  {
   "cell_type": "code",
   "execution_count": 3,
   "metadata": {},
   "outputs": [
    {
     "data": {
      "text/plain": [
       "'/Users/zsbjltwjj/Desktop/logs/logs/EXP_ON_V0/HalfCheetah-v2/copos1-2'"
      ]
     },
     "execution_count": 3,
     "metadata": {},
     "output_type": "execute_result"
    }
   ],
   "source": [
    "test[0].dirname"
   ]
  },
  {
   "cell_type": "code",
   "execution_count": 24,
   "metadata": {},
   "outputs": [
    {
     "data": {
      "text/plain": [
       "'True'"
      ]
     },
     "execution_count": 24,
     "metadata": {},
     "output_type": "execute_result"
    }
   ],
   "source": [
    "str(True)"
   ]
  },
  {
   "cell_type": "code",
   "execution_count": null,
   "metadata": {},
   "outputs": [],
   "source": []
  },
  {
   "cell_type": "code",
   "execution_count": null,
   "metadata": {},
   "outputs": [],
   "source": []
  },
  {
   "cell_type": "code",
   "execution_count": null,
   "metadata": {},
   "outputs": [],
   "source": []
  },
  {
   "cell_type": "code",
   "execution_count": null,
   "metadata": {},
   "outputs": [],
   "source": []
  },
  {
   "cell_type": "code",
   "execution_count": null,
   "metadata": {},
   "outputs": [],
   "source": [
    "s=open(\"Output.txt\", \"r\")\n",
    "print(s.readline()[:-1])\n",
    "s.close()"
   ]
  }
 ],
 "metadata": {
  "kernelspec": {
   "display_name": "Python 3",
   "language": "python",
   "name": "python3"
  },
  "language_info": {
   "codemirror_mode": {
    "name": "ipython",
    "version": 3
   },
   "file_extension": ".py",
   "mimetype": "text/x-python",
   "name": "python",
   "nbconvert_exporter": "python",
   "pygments_lexer": "ipython3",
   "version": "3.6.5"
  }
 },
 "nbformat": 4,
 "nbformat_minor": 2
}
