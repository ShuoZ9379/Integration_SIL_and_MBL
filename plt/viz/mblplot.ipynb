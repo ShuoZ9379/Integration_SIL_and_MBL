{
 "cells": [
  {
   "cell_type": "code",
   "execution_count": 10,
   "metadata": {},
   "outputs": [],
   "source": [
    "import numpy as np\n",
    "import os\n",
    "import pandas as pd\n",
    "\n",
    "import matplotlib\n",
    "# For draw in bg\n",
    "matplotlib.use('Agg')\n",
    "import matplotlib.pyplot as plt\n",
    "# For draw in bg\n",
    "plt.switch_backend('agg')\n",
    "\n",
    "from scipy.signal import medfilt\n",
    "matplotlib.rcParams.update({'font.size': 8})\n",
    "\n",
    "import seaborn as sns\n",
    "sns.set(style=\"darkgrid\")\n",
    "\n",
    "from visdom import Visdom\n",
    "\n",
    "INF = 1e9"
   ]
  },
  {
   "cell_type": "code",
   "execution_count": 11,
   "metadata": {},
   "outputs": [],
   "source": [
    "def plot(viz, win, dirname, targs_names, quant=2, smooth=4, opt='each'):\n",
    "    \n",
    "    if opt == 'each': \n",
    "        data, y_name = load_data(dirname, targs_names, smooth_max=smooth)        \n",
    "    elif opt == 'best': \n",
    "        data, y_name = load_data_with_transform_best(dirname, targs_names, quant=quant, smooth_max=smooth)\n",
    "\n",
    "    sns_plot = sns.relplot(x=\"Epoch\", y=y_name, hue='type', kind=\"line\", data=data)\n",
    "    fig = sns_plot.fig\n",
    "    plt.title(dirname)\n",
    "    figname = os.path.join(dirname, 'eval_result.png')\n",
    "    fig.savefig(figname)\n",
    "    image = plt.imread(figname)\n",
    "\n",
    "    # Show it in visdom\n",
    "    image = np.transpose(image, (2, 0, 1))    \n",
    "    return viz.image(image, win=win)\n",
    "def load_data(dirname, targs_names, smooth_max=4):\n",
    "    df = pd.read_csv(os.path.join(dirname, 'progress.csv'))\n",
    "\n",
    "    targs = (list(targs_names.keys()))\n",
    "    df = df[df[targs].notnull()]\n",
    "    \n",
    "    smooth_range = 1 if len(df) <= 20 else smooth_max\n",
    "    \n",
    "    plot_data = [] \n",
    "    for targ, name in sorted(targs_names.items()):\n",
    "        d = df[[targ]].copy(deep=True)\n",
    "        d['Epoch'] = range(0, len(d))\n",
    "        d = d.rolling(smooth_range, center=True, min_periods=1).mean()\n",
    "        d['Epoch'] = d['Epoch'].astype(int)\n",
    "        d.insert(2, 'type', name)\n",
    "        d = d.rename(index=str, columns={targ: 'Reward'})\n",
    "        plot_data.append(d)    \n",
    "    df = pd.concat(plot_data)\n",
    "    return df, 'Reward'"
   ]
  },
  {
   "cell_type": "code",
   "execution_count": 21,
   "metadata": {},
   "outputs": [],
   "source": [
    "df=pd.read_csv(os.path.join('/Users/zsbjltwjj/Desktop/logs/nosil', 'progress.csv'))"
   ]
  },
  {
   "cell_type": "code",
   "execution_count": 25,
   "metadata": {},
   "outputs": [
    {
     "data": {
      "text/plain": [
       "4    18.588898\n",
       "9    48.251260\n",
       "Name: MeanRewMF, dtype: float64"
      ]
     },
     "execution_count": 25,
     "metadata": {},
     "output_type": "execute_result"
    }
   ],
   "source": [
    "df['MeanRewMF'].dropna(how=\"all\")"
   ]
  },
  {
   "cell_type": "code",
   "execution_count": null,
   "metadata": {},
   "outputs": [],
   "source": []
  }
 ],
 "metadata": {
  "kernelspec": {
   "display_name": "Python 3",
   "language": "python",
   "name": "python3"
  },
  "language_info": {
   "codemirror_mode": {
    "name": "ipython",
    "version": 3
   },
   "file_extension": ".py",
   "mimetype": "text/x-python",
   "name": "python",
   "nbconvert_exporter": "python",
   "pygments_lexer": "ipython3",
   "version": "3.6.5"
  }
 },
 "nbformat": 4,
 "nbformat_minor": 2
}
